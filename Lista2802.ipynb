{
  "nbformat": 4,
  "nbformat_minor": 0,
  "metadata": {
    "colab": {
      "provenance": [],
      "authorship_tag": "ABX9TyNR6hXrpjKlFRTBfG7+VvCN",
      "include_colab_link": true
    },
    "kernelspec": {
      "name": "python3",
      "display_name": "Python 3"
    },
    "language_info": {
      "name": "python"
    }
  },
  "cells": [
    {
      "cell_type": "markdown",
      "metadata": {
        "id": "view-in-github",
        "colab_type": "text"
      },
      "source": [
        "<a href=\"https://colab.research.google.com/github/Gustavo-grecc0/PythonLista/blob/main/Lista2802.ipynb\" target=\"_parent\"><img src=\"https://colab.research.google.com/assets/colab-badge.svg\" alt=\"Open In Colab\"/></a>"
      ]
    },
    {
      "cell_type": "code",
      "execution_count": 1,
      "metadata": {
        "colab": {
          "base_uri": "https://localhost:8080/"
        },
        "id": "CpOX9ws-47Km",
        "outputId": "de68ac10-0683-4d90-894e-4e0aa5229d7f"
      },
      "outputs": [
        {
          "output_type": "stream",
          "name": "stdout",
          "text": [
            "Número de vogais na string: 3\n"
          ]
        }
      ],
      "source": [
        "#1\n",
        "def contar_vogais(string):\n",
        "    vogais = ['a', 'e', 'i', 'o', 'u', 'A', 'E', 'I', 'O', 'U']\n",
        "    contador = 0\n",
        "    for char in string:\n",
        "        if char in vogais:\n",
        "            contador += 1\n",
        "    return contador\n",
        "minha_string = \"Olá, mundo!\"\n",
        "print(\"Número de vogais na string:\", contar_vogais(minha_string))"
      ]
    },
    {
      "cell_type": "code",
      "source": [
        "#2\n",
        "def substituir_letra(string, letra_antiga, letra_nova):\n",
        "    nova_string = string.replace(letra_antiga, letra_nova)\n",
        "    return nova_string\n",
        "minha_string = \"banana\"\n",
        "letra_antiga = \"a\"\n",
        "letra_nova = \"o\"\n",
        "nova_string = substituir_letra(minha_string, letra_antiga, letra_nova)\n",
        "print(\"String original:\", minha_string)\n",
        "print(\"String após substituição:\", nova_string)"
      ],
      "metadata": {
        "colab": {
          "base_uri": "https://localhost:8080/"
        },
        "id": "MA7TaEr65bE2",
        "outputId": "8c45f59b-4e2c-4def-9618-ad618f353a56"
      },
      "execution_count": 2,
      "outputs": [
        {
          "output_type": "stream",
          "name": "stdout",
          "text": [
            "String original: banana\n",
            "String após substituição: bonono\n"
          ]
        }
      ]
    },
    {
      "cell_type": "code",
      "source": [
        "#3\n",
        "def contar_palavras(string):\n",
        "    palavras = string.split()\n",
        "    return len(palavras)\n",
        "minha_string = \"Esta é uma frase de exemplo.\"\n",
        "print(\"Número de palavras na string:\", contar_palavras(minha_string))"
      ],
      "metadata": {
        "colab": {
          "base_uri": "https://localhost:8080/"
        },
        "id": "iD-oP7CL5zQN",
        "outputId": "8d9e3ef4-b414-48d7-dcb9-ec833c067068"
      },
      "execution_count": 3,
      "outputs": [
        {
          "output_type": "stream",
          "name": "stdout",
          "text": [
            "Número de palavras na string: 6\n"
          ]
        }
      ]
    },
    {
      "cell_type": "code",
      "source": [
        "#4\n",
        "def contar_ocorrencias(frase, palavra):\n",
        "    palavras_na_frase = frase.split()\n",
        "    contador = 0\n",
        "    for p in palavras_na_frase:\n",
        "        if p == palavra:\n",
        "            contador += 1\n",
        "    return contador\n",
        "minha_frase = \"Esta é uma frase de exemplo contendo uma palavra repetida.\"\n",
        "palavra_procurada = \"uma\"\n",
        "print(\"Número de ocorrências da palavra na frase:\", contar_ocorrencias(minha_frase, palavra_procurada))\n"
      ],
      "metadata": {
        "colab": {
          "base_uri": "https://localhost:8080/"
        },
        "id": "6mtv8oe46LMd",
        "outputId": "c1ee026f-e6d2-4906-db51-ebd9d1ad9faf"
      },
      "execution_count": 4,
      "outputs": [
        {
          "output_type": "stream",
          "name": "stdout",
          "text": [
            "Número de ocorrências da palavra na frase: 2\n"
          ]
        }
      ]
    },
    {
      "cell_type": "code",
      "source": [
        "#5\n",
        "def k_maiores_elementos(lista, k):\n",
        "    lista_ordenada = sorted(lista, reverse=True)\n",
        "    k_maiores = lista_ordenada[:k]\n",
        "    return k_maiores\n",
        "minha_lista = [3, 7, 1, 9, 2, 5, 8, 4, 6]\n",
        "k = 3\n",
        "maiores_elementos = k_maiores_elementos(minha_lista, k)\n",
        "print(f\"{k} maiores elementos na lista mantendo a ordem original:\", maiores_elementos)\n",
        "\n"
      ],
      "metadata": {
        "colab": {
          "base_uri": "https://localhost:8080/"
        },
        "id": "VkMyY8yB6M9t",
        "outputId": "a4816979-8763-4fb3-c9e8-a2c8ac829118"
      },
      "execution_count": 5,
      "outputs": [
        {
          "output_type": "stream",
          "name": "stdout",
          "text": [
            "3 maiores elementos na lista mantendo a ordem original: [9, 8, 7]\n"
          ]
        }
      ]
    },
    {
      "cell_type": "code",
      "source": [
        "#6\n",
        "def soma_matrizes(matriz1, matriz2):\n",
        "    if len(matriz1) != len(matriz2) or len(matriz1[0]) != len(matriz2[0]):\n",
        "        return \"As matrizes devem ter o mesmo tamanho para serem somadas.\"\n",
        "    soma = []\n",
        "    for i in range(len(matriz1)):\n",
        "        linha_soma = []\n",
        "        for j in range(len(matriz1[0])):\n",
        "            linha_soma.append(matriz1[i][j] + matriz2[i][j])\n",
        "        soma.append(linha_soma)\n",
        "    return soma\n",
        "matriz1 = [[1, 2, 3],\n",
        "           [4, 5, 6],\n",
        "           [7, 8, 9]]\n",
        "\n",
        "matriz2 = [[9, 8, 7],\n",
        "           [6, 5, 4],\n",
        "           [3, 2, 1]]\n",
        "resultado = soma_matrizes(matriz1, matriz2)\n",
        "if isinstance(resultado, str):\n",
        "    print(resultado)\n",
        "else:\n",
        "    print(\"Matriz resultante da soma:\")\n",
        "    for linha in resultado:\n",
        "        print(linha)"
      ],
      "metadata": {
        "colab": {
          "base_uri": "https://localhost:8080/"
        },
        "id": "lWkeClNB6jG0",
        "outputId": "b4121ef6-4556-44d9-c6f4-72cb3e15c472"
      },
      "execution_count": 6,
      "outputs": [
        {
          "output_type": "stream",
          "name": "stdout",
          "text": [
            "Matriz resultante da soma:\n",
            "[10, 10, 10]\n",
            "[10, 10, 10]\n",
            "[10, 10, 10]\n"
          ]
        }
      ]
    },
    {
      "cell_type": "code",
      "source": [
        "#77777\n",
        "def intersecao_sem_conjuntos(lista1, lista2):\n",
        "    intersecao = []\n",
        "    for elemento in lista1:\n",
        "        if elemento in lista2 and elemento not in intersecao:\n",
        "            intersecao.append(elemento)\n",
        "    return intersecao\n",
        "lista1 = [1, 2, 3, 4, 5]\n",
        "lista2 = [4, 5, 6, 7, 8]\n",
        "resultado = intersecao_sem_conjuntos(lista1, lista2)\n",
        "print(\"Interseção das listas:\", resultado)"
      ],
      "metadata": {
        "colab": {
          "base_uri": "https://localhost:8080/"
        },
        "id": "pDl1fBGa6ytn",
        "outputId": "416e60a8-9f33-47b8-d0b2-806eccb114cc"
      },
      "execution_count": 7,
      "outputs": [
        {
          "output_type": "stream",
          "name": "stdout",
          "text": [
            "Interseção das listas: [4, 5]\n"
          ]
        }
      ]
    },
    {
      "cell_type": "code",
      "source": [
        "#8\n",
        "import random\n",
        "def embaralhar_lista(lista):\n",
        "    random.shuffle(lista)\n",
        "    return lista\n",
        "minha_lista = [1, 2, 3, 4, 5]\n",
        "lista_embaralhada = embaralhar_lista(minha_lista)\n",
        "print(\"Lista embaralhada:\", lista_embaralhada)"
      ],
      "metadata": {
        "colab": {
          "base_uri": "https://localhost:8080/"
        },
        "id": "apwFo2Xz6_0x",
        "outputId": "9f7ef62d-2059-4fd8-9c77-3675af7f2252"
      },
      "execution_count": 8,
      "outputs": [
        {
          "output_type": "stream",
          "name": "stdout",
          "text": [
            "Lista embaralhada: [4, 2, 1, 3, 5]\n"
          ]
        }
      ]
    },
    {
      "cell_type": "code",
      "source": [
        "#9\n",
        "def encontrar_par_soma(lista, soma_desejada):\n",
        "    indice_por_elemento = {}\n",
        "    for i, num in enumerate(lista):\n",
        "        complemento = soma_desejada - num\n",
        "        if complemento in indice_por_elemento:\n",
        "            return [complemento, num]\n",
        "        indice_por_elemento[num] = i\n",
        "    return None\n",
        "minha_lista = [2, 7, 11, 15]\n",
        "soma_desejada = 9\n",
        "par_soma = encontrar_par_soma(minha_lista, soma_desejada)\n",
        "if par_soma:\n",
        "    print(f\"Par de elementos que somam {soma_desejada}: {par_soma}\")\n",
        "else:\n",
        "    print(\"Nenhum par de elementos encontrado na lista que some o valor desejado.\")\n"
      ],
      "metadata": {
        "colab": {
          "base_uri": "https://localhost:8080/"
        },
        "id": "DkEOi1CN7IZt",
        "outputId": "65ef2742-a488-451c-a850-7ba2367d6f9e"
      },
      "execution_count": 24,
      "outputs": [
        {
          "output_type": "stream",
          "name": "stdout",
          "text": [
            "Par de elementos que somam 9: [2, 7]\n"
          ]
        }
      ]
    },
    {
      "cell_type": "code",
      "source": [
        "#10\n",
        "def calcular_frequencia(texto, palavra):\n",
        "    texto = texto.lower()\n",
        "    palavra = palavra.lower()\n",
        "    palavras = texto.split()\n",
        "    frequencia = 0\n",
        "    for p in palavras:\n",
        "        if p == palavra:\n",
        "            frequencia += 1\n",
        "    return frequencia\n",
        "meu_texto = \"Este é um texto de exemplo. Este texto contém algumas repetições. Exemplo é uma palavra que aparece mais de uma vez.\"\n",
        "palavra_procurada = \"exemplo\"\n",
        "frequencia = calcular_frequencia(meu_texto, palavra_procurada)\n",
        "print(\"Frequência da palavra no texto:\", frequencia)\n",
        "\n"
      ],
      "metadata": {
        "colab": {
          "base_uri": "https://localhost:8080/"
        },
        "id": "zRxUQlCc7MI8",
        "outputId": "a7cfb27b-f02f-46e2-e85c-9b486b91d8b9"
      },
      "execution_count": 10,
      "outputs": [
        {
          "output_type": "stream",
          "name": "stdout",
          "text": [
            "Frequência da palavra no texto: 1\n"
          ]
        }
      ]
    },
    {
      "cell_type": "code",
      "source": [
        "#11\n",
        "def eh_primo(numero):\n",
        "    if numero <= 1:\n",
        "        return False\n",
        "    for i in range(2, int(numero ** 0.5) + 1):\n",
        "        if numero % i == 0:\n",
        "            return False\n",
        "    return True\n",
        "def numeros_primos(lista):\n",
        "    primos = []\n",
        "    for num in lista:\n",
        "        if eh_primo(num):\n",
        "            primos.append(num)\n",
        "    return primos\n",
        "numeros = [2, 3, 4, 5, 6, 7, 8, 9, 10, 11, 12, 13]\n",
        "primos = numeros_primos(numeros)\n",
        "print(\"Números primos na lista:\", primos)\n"
      ],
      "metadata": {
        "colab": {
          "base_uri": "https://localhost:8080/"
        },
        "id": "iLitUZ9a74mv",
        "outputId": "75e4c557-a49e-4e9d-e9ef-48f4b5777ce4"
      },
      "execution_count": 13,
      "outputs": [
        {
          "output_type": "stream",
          "name": "stdout",
          "text": [
            "Números primos na lista: [2, 3, 5, 7, 11, 13]\n"
          ]
        }
      ]
    },
    {
      "cell_type": "code",
      "source": [
        "#12\n",
        "def menor_string(lista_strings):\n",
        "    if not lista_strings:\n",
        "        return None\n",
        "    menor = lista_strings[0]\n",
        "    for string in lista_strings:\n",
        "        if len(string) < len(menor):\n",
        "            menor = string\n",
        "    return menor\n",
        "lista = [\"banana\", \"maçã\", \"laranja\", \"uva\", \"abacaxi\"]\n",
        "menor = menor_string(lista)\n",
        "print(\"Menor string na lista:\", menor)\n"
      ],
      "metadata": {
        "colab": {
          "base_uri": "https://localhost:8080/"
        },
        "id": "GxEYzE1J8yaE",
        "outputId": "ad775a5e-fc13-4bfd-f614-9c9931532d09"
      },
      "execution_count": 12,
      "outputs": [
        {
          "output_type": "stream",
          "name": "stdout",
          "text": [
            "Menor string na lista: uva\n"
          ]
        }
      ]
    },
    {
      "cell_type": "code",
      "source": [
        "#13\n",
        "def ler_arquivo(nome_arquivo):\n",
        "    try:\n",
        "        with open(nome_arquivo, 'r') as arquivo:\n",
        "            conteudo = arquivo.read()\n",
        "        return conteudo\n",
        "    except FileNotFoundError:\n",
        "        print(f\"Arquivo '{nome_arquivo}' não encontrado.\")\n",
        "        return None\n",
        "    except Exception as e:\n",
        "        print(\"Ocorreu um erro ao ler o arquivo:\", e)\n",
        "        return None\n",
        "nome_arquivo = \"arquivo.txt\"\n",
        "conteudo_arquivo = ler_arquivo(nome_arquivo)\n",
        "if conteudo_arquivo:\n",
        "    print(\"Conteúdo do arquivo:\")\n",
        "    print(conteudo_arquivo)\n"
      ],
      "metadata": {
        "colab": {
          "base_uri": "https://localhost:8080/"
        },
        "id": "5vSx5zcH86az",
        "outputId": "89077ed0-4f77-4351-cfdc-6c55a58b9914"
      },
      "execution_count": 14,
      "outputs": [
        {
          "output_type": "stream",
          "name": "stdout",
          "text": [
            "Arquivo 'arquivo.txt' não encontrado.\n"
          ]
        }
      ]
    },
    {
      "cell_type": "code",
      "source": [
        "#14\n",
        "import csv\n",
        "\n",
        "def ler_arquivo_csv(nome_arquivo):\n",
        "    try:\n",
        "        with open(nome_arquivo, 'r', newline='') as arquivo:\n",
        "            leitor_csv = csv.reader(arquivo)\n",
        "            linhas = list(leitor_csv)\n",
        "        return linhas\n",
        "    except FileNotFoundError:\n",
        "        print(f\"Arquivo '{nome_arquivo}' não encontrado.\")\n",
        "        return None\n",
        "    except Exception as e:\n",
        "        print(\"Ocorreu um erro ao ler o arquivo:\", e)\n",
        "        return None\n",
        "nome_arquivo_csv = \"dados.csv\"\n",
        "dados_csv = ler_arquivo_csv(nome_arquivo_csv)\n",
        "if dados_csv:\n",
        "    print(\"Conteúdo do arquivo CSV:\")\n",
        "    for linha in dados_csv:\n",
        "        print(linha)\n"
      ],
      "metadata": {
        "colab": {
          "base_uri": "https://localhost:8080/"
        },
        "id": "7C4qt8679YeM",
        "outputId": "b6263ce8-2c4c-43e5-9669-e54dd2e1e43a"
      },
      "execution_count": 23,
      "outputs": [
        {
          "output_type": "stream",
          "name": "stdout",
          "text": [
            "Arquivo 'dados.csv' não encontrado.\n"
          ]
        }
      ]
    },
    {
      "cell_type": "code",
      "source": [
        "#15\n",
        "{\n",
        "  \"nome\": \"João\",\n",
        "  \"idade\": 30,\n",
        "  \"cidade\": \"São Paulo\"\n",
        "}\n",
        "\n",
        "import json\n",
        "\n",
        "def ler_arquivo_json(nome_arquivo):\n",
        "    try:\n",
        "        with open(nome_arquivo, 'r') as arquivo:\n",
        "            # Carregar o conteúdo do arquivo JSON\n",
        "            conteudo_json = json.load(arquivo)\n",
        "        return conteudo_json\n",
        "    except FileNotFoundError:\n",
        "        print(f\"Arquivo '{nome_arquivo}' não encontrado.\")\n",
        "        return None\n",
        "    except Exception as e:\n",
        "        print(\"Ocorreu um erro ao ler o arquivo:\", e)\n",
        "        return None\n",
        "nome_arquivo_json = \"dados.json\"\n",
        "dados_json = ler_arquivo_json(nome_arquivo_json)\n",
        "if dados_json:\n",
        "    print(\"Conteúdo do arquivo JSON:\")\n",
        "    print(dados_json)\n"
      ],
      "metadata": {
        "colab": {
          "base_uri": "https://localhost:8080/"
        },
        "id": "uP8C7vaI9s1L",
        "outputId": "b8ed55b9-d893-4024-979f-b1618eb5431c"
      },
      "execution_count": 22,
      "outputs": [
        {
          "output_type": "stream",
          "name": "stdout",
          "text": [
            "Arquivo 'dados.json' não encontrado.\n"
          ]
        }
      ]
    },
    {
      "cell_type": "code",
      "source": [
        "#16\n",
        "import os\n",
        "\n",
        "def consolidar_arquivos_texto(diretorio, arquivo_saida):\n",
        "    try:\n",
        "        with open(arquivo_saida, 'w') as arquivo_consolidado:\n",
        "            for nome_arquivo in os.listdir(diretorio):\n",
        "                if nome_arquivo.endswith('.txt'):\n",
        "                    caminho_arquivo = os.path.join(diretorio, nome_arquivo)\n",
        "                    with open(caminho_arquivo, 'r') as arquivo_entrada:\n",
        "                        arquivo_consolidado.write(arquivo_entrada.read())\n",
        "                        arquivo_consolidado.write('\\n')\n",
        "        print(f\"Arquivos consolidados com sucesso em '{arquivo_saida}'.\")\n",
        "    except Exception as e:\n",
        "        print(\"Ocorreu um erro ao consolidar os arquivos:\", e)\n",
        "diretorio = \"/caminho/para/seu/diretorio\"\n",
        "arquivo_saida = \"consolidado.txt\"\n",
        "consolidar_arquivos_texto(diretorio, arquivo_saida)\n"
      ],
      "metadata": {
        "colab": {
          "base_uri": "https://localhost:8080/"
        },
        "id": "Qe0KYSVb-bUH",
        "outputId": "54e5a85f-df5c-4f00-c409-b07f59cb062c"
      },
      "execution_count": 21,
      "outputs": [
        {
          "output_type": "stream",
          "name": "stdout",
          "text": [
            "Ocorreu um erro ao consolidar os arquivos: [Errno 2] No such file or directory: '/caminho/para/seu/diretorio'\n"
          ]
        }
      ]
    },
    {
      "cell_type": "code",
      "source": [
        "#17\n",
        "import csv\n",
        "\n",
        "def mes_com_mais_vendas(arquivo_csv):\n",
        "    vendas_por_mes = {}\n",
        "    try:\n",
        "        with open(arquivo_csv, 'r', newline='') as arquivo:\n",
        "            leitor_csv = csv.DictReader(arquivo)\n",
        "            for linha in leitor_csv:\n",
        "                mes = linha['Mês']\n",
        "                vendas = int(linha['Vendas'])\n",
        "                if mes in vendas_por_mes:\n",
        "                    vendas_por_mes[mes] += vendas\n",
        "                else:\n",
        "                    vendas_por_mes[mes] = vendas\n",
        "        mes_mais_vendas = max(vendas_por_mes, key=vendas_por_mes.get)\n",
        "        return mes_mais_vendas\n",
        "    except FileNotFoundError:\n",
        "        print(f\"Arquivo '{arquivo_csv}' não encontrado.\")\n",
        "        return None\n",
        "    except Exception as e:\n",
        "        print(\"Ocorreu um erro ao ler o arquivo:\", e)\n",
        "        return None\n",
        "arquivo_csv = \"vendas.csv\"\n",
        "mes = mes_com_mais_vendas(arquivo_csv)\n",
        "if mes:\n",
        "    print(f\"O mês com mais vendas foi: {mes}\")\n"
      ],
      "metadata": {
        "colab": {
          "base_uri": "https://localhost:8080/"
        },
        "id": "3Z4T8Kfo-k3K",
        "outputId": "92430be2-41fb-4620-e08d-abf0a69dd8a2"
      },
      "execution_count": 20,
      "outputs": [
        {
          "output_type": "stream",
          "name": "stdout",
          "text": [
            "Arquivo 'vendas.csv' não encontrado.\n"
          ]
        }
      ]
    },
    {
      "cell_type": "code",
      "source": [
        "#18\n",
        "import csv\n",
        "\n",
        "def mes_com_menos_vendas(arquivo_csv):\n",
        "    vendas_por_mes = {}\n",
        "    try:\n",
        "        with open(arquivo_csv, 'r', newline='') as arquivo:\n",
        "            leitor_csv = csv.DictReader(arquivo)\n",
        "            for linha in leitor_csv:\n",
        "                mes = linha['Mês']\n",
        "                vendas = int(linha['Vendas'])\n",
        "                if mes in vendas_por_mes:\n",
        "                    vendas_por_mes[mes] += vendas\n",
        "                else:\n",
        "                    vendas_por_mes[mes] = vendas\n",
        "        mes_menos_vendas = min(vendas_por_mes, key=vendas_por_mes.get)\n",
        "        return mes_menos_vendas\n",
        "    except FileNotFoundError:\n",
        "        print(f\"Arquivo '{arquivo_csv}' não encontrado.\")\n",
        "        return None\n",
        "    except Exception as e:\n",
        "        print(\"Ocorreu um erro ao ler o arquivo:\", e)\n",
        "        return None\n",
        "arquivo_csv = \"vendas.csv\"\n",
        "mes = mes_com_menos_vendas(arquivo_csv)\n",
        "if mes:\n",
        "    print(f\"O mês com menos vendas foi: {mes}\")\n"
      ],
      "metadata": {
        "colab": {
          "base_uri": "https://localhost:8080/"
        },
        "id": "BDibvN1i-okK",
        "outputId": "904b352c-8bac-411b-cf05-18b4a7a47fc8"
      },
      "execution_count": 19,
      "outputs": [
        {
          "output_type": "stream",
          "name": "stdout",
          "text": [
            "Arquivo 'vendas.csv' não encontrado.\n"
          ]
        }
      ]
    },
    {
      "cell_type": "code",
      "source": [
        "#19\n",
        "import csv\n",
        "def soma_vendas_por_vendedor(arquivo_csv):\n",
        "    vendas_por_vendedor = {}\n",
        "    try:\n",
        "        with open(arquivo_csv, 'r', newline='') as arquivo:\n",
        "            leitor_csv = csv.DictReader(arquivo)\n",
        "            for linha in leitor_csv:\n",
        "                vendedor = linha['Vendedor']\n",
        "                venda = float(linha['Venda'])\n",
        "                if vendedor in vendas_por_vendedor:\n",
        "                    vendas_por_vendedor[vendedor] += venda\n",
        "                else:\n",
        "                    vendas_por_vendedor[vendedor] = venda\n",
        "        return vendas_por_vendedor\n",
        "    except FileNotFoundError:\n",
        "        print(f\"Arquivo '{arquivo_csv}' não encontrado.\")\n",
        "        return None\n",
        "    except Exception as e:\n",
        "        print(\"Ocorreu um erro ao ler o arquivo:\", e)\n",
        "        return None\n",
        "arquivo_csv = \"vendas.csv\"\n",
        "soma_vendas = soma_vendas_por_vendedor(arquivo_csv)\n",
        "if soma_vendas:\n",
        "    print(\"Soma de vendas por vendedor:\")\n",
        "    for vendedor, total_vendas in soma_vendas.items():\n",
        "        print(f\"{vendedor}: R${total_vendas:.2f}\")\n"
      ],
      "metadata": {
        "colab": {
          "base_uri": "https://localhost:8080/"
        },
        "id": "1h2y4Lge-paC",
        "outputId": "a89e47ed-456b-4c2a-afd2-d8130eba4d6a"
      },
      "execution_count": 18,
      "outputs": [
        {
          "output_type": "stream",
          "name": "stdout",
          "text": [
            "Arquivo 'vendas.csv' não encontrado.\n"
          ]
        }
      ]
    },
    {
      "cell_type": "code",
      "source": [
        "#20\n",
        "import csv\n",
        "\n",
        "def encontrar_vendedores_extremos(arquivo_csv):\n",
        "    vendas_por_vendedor = {}\n",
        "    try:\n",
        "        with open(arquivo_csv, 'r', newline='') as arquivo:\n",
        "            leitor_csv = csv.DictReader(arquivo)\n",
        "            for linha in leitor_csv:\n",
        "                vendedor = linha['Vendedor']\n",
        "                venda = float(linha['Venda'])\n",
        "                if vendedor in vendas_por_vendedor:\n",
        "                    vendas_por_vendedor[vendedor] += venda\n",
        "                else:\n",
        "                    vendas_por_vendedor[vendedor] = venda\n",
        "        vendedor_mais_vendeu = max(vendas_por_vendedor, key=vendas_por_vendedor.get)\n",
        "        vendedor_menos_vendeu = min(vendas_por_vendedor, key=vendas_por_vendedor.get)\n",
        "\n",
        "        return vendedor_mais_vendeu, vendedor_menos_vendeu\n",
        "    except FileNotFoundError:\n",
        "        print(f\"Arquivo '{arquivo_csv}' não encontrado.\")\n",
        "        return None, None\n",
        "    except Exception as e:\n",
        "        print(\"Ocorreu um erro ao ler o arquivo:\", e)\n",
        "        return None, None\n",
        "arquivo_csv = \"vendas.csv\"\n",
        "vendedor_mais_vendeu, vendedor_menos_vendeu = encontrar_vendedores_extremos(arquivo_csv)\n",
        "if vendedor_mais_vendeu and vendedor_menos_vendeu:\n",
        "    print(f\"Vendedor que mais vendeu: {vendedor_mais_vendeu}\")\n",
        "    print(f\"Vendedor que menos vendeu: {vendedor_menos_vendeu}\")\n"
      ],
      "metadata": {
        "colab": {
          "base_uri": "https://localhost:8080/"
        },
        "id": "yhAasrN0-qPb",
        "outputId": "5afe1f90-c556-4712-d2bc-e76c61287f8f"
      },
      "execution_count": 17,
      "outputs": [
        {
          "output_type": "stream",
          "name": "stdout",
          "text": [
            "Arquivo 'vendas.csv' não encontrado.\n"
          ]
        }
      ]
    }
  ]
}